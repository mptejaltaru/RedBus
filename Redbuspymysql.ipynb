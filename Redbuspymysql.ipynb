{
  "nbformat": 4,
  "nbformat_minor": 0,
  "metadata": {
    "colab": {
      "provenance": [],
      "authorship_tag": "ABX9TyPfsBPMh0vth7XCd6YG8aRo",
      "include_colab_link": true
    },
    "kernelspec": {
      "name": "python3",
      "display_name": "Python 3"
    },
    "language_info": {
      "name": "python"
    }
  },
  "cells": [
    {
      "cell_type": "markdown",
      "metadata": {
        "id": "view-in-github",
        "colab_type": "text"
      },
      "source": [
        "<a href=\"https://colab.research.google.com/github/mptejaltaru/RedBus/blob/main/Redbuspymysql.ipynb\" target=\"_parent\"><img src=\"https://colab.research.google.com/assets/colab-badge.svg\" alt=\"Open In Colab\"/></a>"
      ]
    },
    {
      "cell_type": "code",
      "execution_count": null,
      "metadata": {
        "id": "9uL_8biI7u4L"
      },
      "outputs": [],
      "source": [
        "Connect to MySQL database\n",
        "myconnection = pymysql.connect(host='127.0.0.1', user='root', passwd='34566@25', database=\"redbus\")\n",
        "\n",
        "# Drop rows with missing values\n",
        "combined_df = combined_df.dropna()\n",
        "\n",
        "# Convert DataFrame dtypes to MySQL compatible datatypes\n",
        "dtype_map = {\n",
        "    'float64': 'FLOAT',\n",
        "    'object': 'TEXT',\n",
        "    'int64': 'INT'\n",
        "}\n",
        "\n",
        "# Create MySQL table schema from DataFrame dtypes\n",
        "columns_and_types = \", \".join(f\"{col} {dtype_map[str(dtype)]}\" for col, dtype in combined_df.dtypes.items())\n",
        "table_name = \"bus_routes\"\n",
        "\n",
        "# Create table if not exists\n",
        "with myconnection.cursor() as cursor:\n",
        "    cursor.execute(f\"CREATE TABLE IF NOT EXISTS {table_name} ({columns_and_types})\")\n",
        "\n",
        "# Insert data into MySQL table\n",
        "with myconnection.cursor() as cursor:\n",
        "    for i in range(len(combined_df)):\n",
        "        # Use parameterized queries for security and performance\n",
        "        sql = f\"INSERT INTO {table_name} VALUES ({','.join(['%s'] * len(combined_df.columns))})\"\n",
        "        cursor.execute(sql, tuple(combined_df.iloc[i]))\n",
        "\n",
        "# Commit changes\n",
        "myconnection.commit()\n",
        "\n",
        "# Close the connection\n",
        "myconnection.close()\n"
      ]
    }
  ]
}