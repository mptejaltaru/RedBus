{
  "nbformat": 4,
  "nbformat_minor": 0,
  "metadata": {
    "colab": {
      "provenance": [],
      "authorship_tag": "ABX9TyNzwYB42CRA6Q9Z+ffHabP4",
      "include_colab_link": true
    },
    "kernelspec": {
      "name": "python3",
      "display_name": "Python 3"
    },
    "language_info": {
      "name": "python"
    }
  },
  "cells": [
    {
      "cell_type": "markdown",
      "metadata": {
        "id": "view-in-github",
        "colab_type": "text"
      },
      "source": [
        "<a href=\"https://colab.research.google.com/github/mptejaltaru/RedBus/blob/main/Selenium_code.ipynb\" target=\"_parent\"><img src=\"https://colab.research.google.com/assets/colab-badge.svg\" alt=\"Open In Colab\"/></a>"
      ]
    },
    {
      "cell_type": "code",
      "execution_count": null,
      "metadata": {
        "id": "DBWw0Ws74uXg"
      },
      "outputs": [],
      "source": [
        "#importing libraries\n",
        "from selenium import webdriver\n",
        "from selenium.webdriver import ActionChains\n",
        "from selenium.webdriver.common.by import By\n",
        "from selenium.webdriver.common.keys import Keys\n",
        "from selenium.common.exceptions import TimeoutException, NoSuchElementException\n",
        "import time\n",
        "from selenium.webdriver.support.ui import WebDriverWait\n",
        "from selenium.webdriver.support import expected_conditions as EC\n",
        "import pandas as pd"
      ]
    },
    {
      "cell_type": "code",
      "source": [
        "#10 states links\n",
        "state_links=[\"https://www.redbus.in/online-booking/ksrtc-kerala/?utm_source=rtchometile\",\n",
        "             \"https://www.redbus.in/online-booking/apsrtc/?utm_source=rtchometile\",\n",
        "             \"https://www.redbus.in/online-booking/tsrtc/?utm_source=rtchometile\",\n",
        "             \"https://www.redbus.in/online-booking/ktcl/?utm_source=rtchometile\",\n",
        "             \"https://www.redbus.in/online-booking/rsrtc/?utm_source=rtchometile\",\n",
        "             \"https://www.redbus.in/online-booking/south-bengal-state-transport-corporation-sbstc/?utm_source=rtchometile\",\n",
        "             \"https://www.redbus.in/online-booking/hrtc/?utm_source=rtchometile\",\n",
        "             \"https://www.redbus.in/online-booking/astc/?utm_source=rtchometile\",\n",
        "             \"https://www.redbus.in/online-booking/uttar-pradesh-state-road-transport-corporation-upsrtc/?utm_source=rtchometile\",\n",
        "             \"https://www.redbus.in/online-booking/wbtc-ctc/?utm_source=rtchometile\"\n",
        "]"
      ],
      "metadata": {
        "id": "1qnNdcNl6Bfr"
      },
      "execution_count": null,
      "outputs": []
    },
    {
      "cell_type": "code",
      "source": [
        "#open the browser\n",
        "\n",
        "driver=webdriver.Chrome()\n",
        "\n",
        "#load the webpage\n",
        "\n",
        "driver.get(\"https://www.redbus.in/online-booking/ksrtc-kerala/?utm_source=rtchometile\")\n",
        "\n",
        "time.sleep(3)\n",
        "\n",
        "driver.maximize_window()"
      ],
      "metadata": {
        "id": "XRbsm-sk6LCe"
      },
      "execution_count": null,
      "outputs": []
    },
    {
      "cell_type": "code",
      "source": [
        "from selenium.webdriver.common.by import By\n",
        "from selenium.webdriver.support.ui import WebDriverWait\n",
        "from selenium.webdriver.support import expected_conditions as EC\n",
        "from selenium.common.exceptions import NoSuchElementException, ElementClickInterceptedException\n",
        "import time\n",
        "\n",
        "#implicit wait\n",
        "wait = WebDriverWait(driver, 20)\n",
        "\n",
        "def Kerala_link_route(path):\n",
        "    LINKS_KERALA = []\n",
        "    ROUTE_KERALA = []\n",
        "\n",
        "    # Retrieve the route links and route names\n",
        "    for i in range(1, 4):  # Adjust the range based on the actual number of pages, e.g., 4\n",
        "        paths = driver.find_elements(By.XPATH, path)\n",
        "\n",
        "        # Retrieve links\n",
        "        for links in paths:\n",
        "            d = links.get_attribute(\"href\")\n",
        "            LINKS_KERALA.append(d)\n",
        "\n",
        "        # Retrieve names of the routes\n",
        "        for route in paths:\n",
        "            ROUTE_KERALA.append(route.text)\n",
        "\n",
        "        try:\n",
        "            # Wait for the pagination element to be present\n",
        "            pagination = wait.until(EC.presence_of_element_located((By.XPATH, '//*[@class=\"DC_117_paginationTable\"]')))\n",
        "\n",
        "            # Check if next button for the next page exists\n",
        "            next_button_xpath = f'//div[@class=\"DC_117_pageTabs \" and text()={i+1}]'\n",
        "            if len(driver.find_elements(By.XPATH, next_button_xpath)) > 0:\n",
        "                next_button = driver.find_element(By.XPATH, next_button_xpath)\n",
        "\n",
        "                # Scroll into view and click the next button using JavaScript\n",
        "                driver.execute_script(\"arguments[0].scrollIntoView(true);\", next_button)\n",
        "                time.sleep(2)  # Ensure some time for scrolling\n",
        "\n",
        "                # Explicitly wait for the next button to be clickable\n",
        "                wait.until(EC.element_to_be_clickable(next_button))\n",
        "                driver.execute_script(\"arguments[0].click();\", next_button)  # Click using JavaScript\n",
        "\n",
        "            else:\n",
        "                print(f\"No more pages to paginate at step {i}\")\n",
        "                break  # No more pages, exit the loop\n",
        "\n",
        "        except (NoSuchElementException, ElementClickInterceptedException) as e:\n",
        "            print(f\"Encountered an issue at step {i}: {e}\")\n",
        "            break\n",
        "\n",
        "    return LINKS_KERALA, ROUTE_KERALA\n",
        "\n",
        "# Calling the function to get links and routes\n",
        "LINKS_KERALA, ROUTE_KERALA = Kerala_link_route(\"//a[@class='route']\")\n"
      ],
      "metadata": {
        "id": "J8y-vMq-6Wfd"
      },
      "execution_count": null,
      "outputs": []
    },
    {
      "cell_type": "code",
      "source": [
        "df_k=pd.DataFrame({\"Route_name\":ROUTE_KERALA,\"Route_link\":LINKS_KERALA})\n",
        "df_k"
      ],
      "metadata": {
        "id": "IVMwS08m6cha"
      },
      "execution_count": null,
      "outputs": []
    },
    {
      "cell_type": "code",
      "source": [
        "df = df_k"
      ],
      "metadata": {
        "id": "NL8dsHNE6mJ0"
      },
      "execution_count": null,
      "outputs": []
    },
    {
      "cell_type": "code",
      "source": [
        "#retrive the bus details\n",
        "driver_k = webdriver.Chrome()\n",
        "Bus_names_k = []\n",
        "Bus_types_k = []\n",
        "Start_Time_k = []\n",
        "End_Time_k = []\n",
        "Ratings_k = []\n",
        "Total_Duration_k = []\n",
        "Prices_k = []\n",
        "Seats_Available_k = []\n",
        "Route_names = []\n",
        "Route_links = []\n",
        "\n",
        "for i,r in df.iterrows():\n",
        "    link=r[\"Route_link\"]\n",
        "    routes=r[\"Route_name\"]\n",
        "\n",
        "# Loop through each link\n",
        "    driver_k.get(link)\n",
        "    time.sleep(2)\n",
        "\n",
        "    # Click on elements to reveal bus details\n",
        "    elements = driver_k.find_elements(By.XPATH, f\"//a[contains(@href, '{link}')]\")\n",
        "    for element in elements:\n",
        "        element.click()\n",
        "        time.sleep(2)\n",
        "\n",
        "    # click elements to views bus\n",
        "    try:\n",
        "        clicks = driver_k.find_element(By.XPATH, \"//div[@class='button']\")\n",
        "        clicks.click()\n",
        "    except:\n",
        "        continue\n",
        "    time.sleep(2)\n",
        "\n",
        "    scrolling = True\n",
        "    while scrolling:\n",
        "        old_page_source = driver_k.page_source\n",
        "\n",
        "        # Use ActionChains to perform a PAGE_DOWN\n",
        "        ActionChains(driver_k).send_keys(Keys.PAGE_DOWN).perform()\n",
        "\n",
        "        time.sleep(5)\n",
        "\n",
        "        new_page_source = driver_k.page_source\n",
        "\n",
        "        if new_page_source == old_page_source:\n",
        "            scrolling = False\n",
        "\n",
        "    # Extract bus details\n",
        "    bus_name = driver_k.find_elements(By.XPATH, \"//div[@class='travels lh-24 f-bold d-color']\")\n",
        "    bus_type = driver_k.find_elements(By.XPATH, \"//div[@class='bus-type f-12 m-top-16 l-color evBus']\")\n",
        "    start_time = driver_k.find_elements(By.XPATH, \"//*[@class='dp-time f-19 d-color f-bold']\")\n",
        "    end_time = driver_k.find_elements(By.XPATH, \"//*[@class='bp-time f-19 d-color disp-Inline']\")\n",
        "    total_duration = driver_k.find_elements(By.XPATH, \"//*[@class='dur l-color lh-24']\")\n",
        "    try:\n",
        "        rating = driver_k.find_elements(By.XPATH,\"//div[@class='clearfix row-one']/div[@class='column-six p-right-10 w-10 fl']\")\n",
        "    except:\n",
        "        continue\n",
        "    price = driver_k.find_elements(By.XPATH, '//*[@class=\"fare d-block\"]')\n",
        "    seats = driver_k.find_elements(By.XPATH, \"//div[contains(@class, 'seat-left')]\")\n",
        "\n",
        "    # Append data to respective lists\n",
        "    for bus in bus_name:\n",
        "        Bus_names_k.append(bus.text)\n",
        "        Route_links.append(link)\n",
        "        Route_names.append(routes)\n",
        "    for bus_type_elem in bus_type:\n",
        "        Bus_types_k.append(bus_type_elem.text)\n",
        "    for start_time_elem in start_time:\n",
        "        Start_Time_k.append(start_time_elem.text)\n",
        "    for end_time_elem in end_time:\n",
        "        End_Time_k.append(end_time_elem.text)\n",
        "    for total_duration_elem in total_duration:\n",
        "        Total_Duration_k.append(total_duration_elem.text)\n",
        "    for ratings in rating:\n",
        "        Ratings_k.append(ratings.text)\n",
        "    for price_elem in price:\n",
        "        Prices_k.append(price_elem.text)\n",
        "    for seats_elem in seats:\n",
        "        Seats_Available_k.append(seats_elem.text)\n",
        "\n",
        "print(\"Successfully Completed\")"
      ],
      "metadata": {
        "id": "RU0kLmyL6ojn"
      },
      "execution_count": null,
      "outputs": []
    },
    {
      "cell_type": "code",
      "source": [
        "# from list to convert data frame\n",
        "data = {\n",
        "    'Bus_name': Bus_names_k,\n",
        "    'Bus_type': Bus_types_k,\n",
        "    'Start_time': Start_Time_k,\n",
        "    'End_time': End_Time_k,\n",
        "    'Total_duration': Total_Duration_k,\n",
        "    'Price': Prices_k,\n",
        "    \"Seats_Available\":Seats_Available_k,\n",
        "    \"Ratings\":Ratings_k,\n",
        "    'Route_link': Route_links,\n",
        "    'Route_name': Route_names\n",
        "}\n",
        "\n",
        "df1 = pd.DataFrame(data)\n",
        "#convert dataframe to csv\n"
      ],
      "metadata": {
        "id": "c7Osv0Wa6yUo"
      },
      "execution_count": null,
      "outputs": []
    },
    {
      "cell_type": "code",
      "source": [
        "df1"
      ],
      "metadata": {
        "id": "rfYx9OX465Ma"
      },
      "execution_count": null,
      "outputs": []
    }
  ]
}