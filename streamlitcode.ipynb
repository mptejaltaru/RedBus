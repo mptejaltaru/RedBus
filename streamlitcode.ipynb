{
  "nbformat": 4,
  "nbformat_minor": 0,
  "metadata": {
    "colab": {
      "provenance": [],
      "authorship_tag": "ABX9TyOgsmyd8L2ISr2XwA0y7zFA",
      "include_colab_link": true
    },
    "kernelspec": {
      "name": "python3",
      "display_name": "Python 3"
    },
    "language_info": {
      "name": "python"
    }
  },
  "cells": [
    {
      "cell_type": "markdown",
      "metadata": {
        "id": "view-in-github",
        "colab_type": "text"
      },
      "source": [
        "<a href=\"https://colab.research.google.com/github/mptejaltaru/RedBus/blob/main/streamlitcode.ipynb\" target=\"_parent\"><img src=\"https://colab.research.google.com/assets/colab-badge.svg\" alt=\"Open In Colab\"/></a>"
      ]
    },
    {
      "cell_type": "code",
      "execution_count": null,
      "metadata": {
        "id": "Cl2N1-pE9CMS"
      },
      "outputs": [],
      "source": [
        "import streamlit as st\n",
        "import pymysql\n",
        "import pandas as pd\n",
        "\n",
        "# Connect to MySQL database\n",
        "def get_connection():\n",
        "    return pymysql.connect(host='127.0.0.1', user='root', passwd='mani1978', database='redbus_1')\n",
        "\n",
        "# Function to fetch route names starting with a specific letter, arranged alphabetically\n",
        "def fetch_route_names(connection, starting_letter):\n",
        "    query = f\"SELECT DISTINCT ROUTE_NAME FROM bus_routes WHERE ROUTE_NAME LIKE '{starting_letter}%' ORDER BY ROUTE_NAME\"\n",
        "    route_names = pd.read_sql(query, connection)['ROUTE_NAME'].tolist()\n",
        "    return route_names\n",
        "\n",
        "# Function to fetch data from MySQL based on selected ROUTE_NAME and price sort order\n",
        "def fetch_data(connection, route_name, price_sort_order):\n",
        "    price_sort_order_sql = \"ASC\" if price_sort_order == \"Low to High\" else \"DESC\"\n",
        "    query = f\"SELECT * FROM bus_routes WHERE ROUTE_NAME = %s ORDER BY RATING DESC, PRICE {price_sort_order_sql}\"\n",
        "    df = pd.read_sql(query, connection, params=(route_name))\n",
        "    return df\n",
        "\n",
        "# Function to filter data based on RATING and BUS_TYPE\n",
        "def filter_data(df, ratings, bus_types):\n",
        "    filtered_df = df[df['RATING'].isin(ratings) & df['BUS_TYPE'].isin(bus_types)]\n",
        "    return filtered_df\n",
        "\n",
        "# Main Streamlit app\n",
        "def main():\n",
        "    st.header('Easy and Secure Online Bus Tickets Booking')\n",
        "\n",
        "    connection = get_connection()\n",
        "\n",
        "    try:\n",
        "        # Sidebar - Input for starting letter\n",
        "        starting_letter = st.sidebar.text_input('Enter Starting Letter of Route Name', 'A')\n",
        "\n",
        "        # Fetch route names starting with the specified letter\n",
        "        if starting_letter:\n",
        "            route_names = fetch_route_names(connection, starting_letter.upper())\n",
        "\n",
        "            if route_names:\n",
        "                # Sidebar - Selectbox for ROUTE_NAME\n",
        "                selected_route = st.sidebar.radio('Select Route Name', route_names)\n",
        "\n",
        "                if selected_route:\n",
        "                    # Sidebar - Selectbox for sorting preference\n",
        "                    price_sort_order = st.sidebar.selectbox('Sort by Price', ['Low to High', 'High to Low'])\n",
        "\n",
        "                    # Fetch data based on selected ROUTE_NAME and price sort order\n",
        "                    data = fetch_data(connection, selected_route, price_sort_order)\n",
        "\n",
        "                    if not data.empty:\n",
        "                        # Display data table with a subheader\n",
        "                        st.write(f\"### Data for Route: {selected_route}\")\n",
        "                        st.write(data)\n",
        "\n",
        "                        # Filter by RATING and BUS_TYPE\n",
        "                        ratings = data['RATING'].unique().tolist()\n",
        "                        selected_ratings = st.multiselect('Filter by Rating', ratings)\n",
        "\n",
        "                        bus_types = data['BUS_TYPE'].unique().tolist()\n",
        "                        selected_bus_types = st.multiselect('Filter by Bus Type', bus_types)\n",
        "\n",
        "                        if selected_ratings and selected_bus_types:\n",
        "                            filtered_data = filter_data(data, selected_ratings, selected_bus_types)\n",
        "                            # Display filtered data table with a subheader\n",
        "                            st.write(f\"### Filtered Data for Rating: {selected_ratings} and Bus Type: {selected_bus_types}\")\n",
        "                            st.write(filtered_data)\n",
        "                    else:\n",
        "                        st.write(f\"No data found for Route: {selected_route} with the specified price sort order.\")\n",
        "            else:\n",
        "                st.write(\"No routes found starting with the specified letter.\")\n",
        "    finally:\n",
        "        connection.close()\n",
        "\n",
        "if __name__ == '__main__':\n",
        "    main()\n"
      ]
    }
  ]
}